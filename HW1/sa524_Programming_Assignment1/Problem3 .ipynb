{
 "cells": [
  {
   "cell_type": "code",
   "execution_count": 1,
   "metadata": {},
   "outputs": [
    {
     "ename": "FileNotFoundError",
     "evalue": "[Errno 2] No such file or directory: './Project1_Files/Images/rose_uni.raw'",
     "output_type": "error",
     "traceback": [
      "\u001b[0;31m---------------------------------------------------------------------------\u001b[0m",
      "\u001b[0;31mFileNotFoundError\u001b[0m                         Traceback (most recent call last)",
      "\u001b[1;32m/Users/sardorakhmedjonov/Code/Image-Data-Science/HW1/sa524_Programming_Assignment1/Problem3 .ipynb Cell 1\u001b[0m in \u001b[0;36m<cell line: 32>\u001b[0;34m()\u001b[0m\n\u001b[1;32m     <a href='vscode-notebook-cell:/Users/sardorakhmedjonov/Code/Image-Data-Science/HW1/sa524_Programming_Assignment1/Problem3%20.ipynb#W0sZmlsZQ%3D%3D?line=28'>29</a>\u001b[0m     \u001b[39mreturn\u001b[39;00m output_img\n\u001b[1;32m     <a href='vscode-notebook-cell:/Users/sardorakhmedjonov/Code/Image-Data-Science/HW1/sa524_Programming_Assignment1/Problem3%20.ipynb#W0sZmlsZQ%3D%3D?line=30'>31</a>\u001b[0m \u001b[39m# Load the raw images\u001b[39;00m\n\u001b[0;32m---> <a href='vscode-notebook-cell:/Users/sardorakhmedjonov/Code/Image-Data-Science/HW1/sa524_Programming_Assignment1/Problem3%20.ipynb#W0sZmlsZQ%3D%3D?line=31'>32</a>\u001b[0m rose_uni \u001b[39m=\u001b[39m read_raw_image(\u001b[39m'\u001b[39;49m\u001b[39m./Project1_Files/Images/rose_uni.raw\u001b[39;49m\u001b[39m'\u001b[39;49m, (\u001b[39m256\u001b[39;49m, \u001b[39m256\u001b[39;49m))\n\u001b[1;32m     <a href='vscode-notebook-cell:/Users/sardorakhmedjonov/Code/Image-Data-Science/HW1/sa524_Programming_Assignment1/Problem3%20.ipynb#W0sZmlsZQ%3D%3D?line=32'>33</a>\u001b[0m rose_gau \u001b[39m=\u001b[39m read_raw_image(\u001b[39m'\u001b[39m\u001b[39m./Project1_Files/Images/rose_gau.raw\u001b[39m\u001b[39m'\u001b[39m, (\u001b[39m256\u001b[39m, \u001b[39m256\u001b[39m))\n\u001b[1;32m     <a href='vscode-notebook-cell:/Users/sardorakhmedjonov/Code/Image-Data-Science/HW1/sa524_Programming_Assignment1/Problem3%20.ipynb#W0sZmlsZQ%3D%3D?line=33'>34</a>\u001b[0m rose_original \u001b[39m=\u001b[39m read_raw_image(\u001b[39m'\u001b[39m\u001b[39m./Project1_Files/Images/rose.raw\u001b[39m\u001b[39m'\u001b[39m, (\u001b[39m256\u001b[39m, \u001b[39m256\u001b[39m))\n",
      "\u001b[1;32m/Users/sardorakhmedjonov/Code/Image-Data-Science/HW1/sa524_Programming_Assignment1/Problem3 .ipynb Cell 1\u001b[0m in \u001b[0;36mread_raw_image\u001b[0;34m(file_path, shape)\u001b[0m\n\u001b[1;32m      <a href='vscode-notebook-cell:/Users/sardorakhmedjonov/Code/Image-Data-Science/HW1/sa524_Programming_Assignment1/Problem3%20.ipynb#W0sZmlsZQ%3D%3D?line=5'>6</a>\u001b[0m \u001b[39mdef\u001b[39;00m \u001b[39mread_raw_image\u001b[39m(file_path, shape):\n\u001b[0;32m----> <a href='vscode-notebook-cell:/Users/sardorakhmedjonov/Code/Image-Data-Science/HW1/sa524_Programming_Assignment1/Problem3%20.ipynb#W0sZmlsZQ%3D%3D?line=6'>7</a>\u001b[0m     \u001b[39mwith\u001b[39;00m \u001b[39mopen\u001b[39;49m(file_path, \u001b[39m'\u001b[39;49m\u001b[39mrb\u001b[39;49m\u001b[39m'\u001b[39;49m) \u001b[39mas\u001b[39;00m file:\n\u001b[1;32m      <a href='vscode-notebook-cell:/Users/sardorakhmedjonov/Code/Image-Data-Science/HW1/sa524_Programming_Assignment1/Problem3%20.ipynb#W0sZmlsZQ%3D%3D?line=7'>8</a>\u001b[0m         img \u001b[39m=\u001b[39m np\u001b[39m.\u001b[39mfromfile(file, dtype\u001b[39m=\u001b[39mnp\u001b[39m.\u001b[39muint8)\n\u001b[1;32m      <a href='vscode-notebook-cell:/Users/sardorakhmedjonov/Code/Image-Data-Science/HW1/sa524_Programming_Assignment1/Problem3%20.ipynb#W0sZmlsZQ%3D%3D?line=8'>9</a>\u001b[0m     \u001b[39mreturn\u001b[39;00m img\u001b[39m.\u001b[39mreshape(shape)\n",
      "\u001b[0;31mFileNotFoundError\u001b[0m: [Errno 2] No such file or directory: './Project1_Files/Images/rose_uni.raw'"
     ]
    }
   ],
   "source": [
    "#Problem 3: Noise removal - (1) Gray-level image\n",
    "\n",
    "import numpy as np\n",
    "import matplotlib.pyplot as plt\n",
    "\n",
    "def read_raw_image(file_path, shape):\n",
    "    with open(file_path, 'rb') as file:\n",
    "        img = np.fromfile(file, dtype=np.uint8)\n",
    "    return img.reshape(shape)\n",
    "\n",
    "def median_filter(img, kernel_size=3):\n",
    "    padded_img = np.pad(img, kernel_size//2, mode='constant')\n",
    "    output_img = np.zeros_like(img)\n",
    "    for i in range(img.shape[0]):\n",
    "        for j in range(img.shape[1]):\n",
    "            output_img[i, j] = np.median(padded_img[i:i+kernel_size, j:j+kernel_size])\n",
    "    return output_img\n",
    "\n",
    "def gaussian_filter(img, kernel_size=3, sigma=1):\n",
    "    kernel = np.fromfunction(lambda x, y: (1/ (2 * np.pi * sigma**2)) * \n",
    "                             np.exp(- ((x - (kernel_size-1)/2)**2 + (y - (kernel_size-1)/2)**2) / (2 * sigma**2)), \n",
    "                             (kernel_size, kernel_size))\n",
    "    kernel /= np.sum(kernel)\n",
    "    padded_img = np.pad(img, kernel_size//2, mode='constant')\n",
    "    output_img = np.zeros_like(img)\n",
    "    for i in range(img.shape[0]):\n",
    "        for j in range(img.shape[1]):\n",
    "            output_img[i, j] = np.sum(padded_img[i:i+kernel_size, j:j+kernel_size] * kernel)\n",
    "    return output_img\n",
    "\n",
    "# Load the raw images\n",
    "rose_uni = read_raw_image('./Project1_Files/Images/rose_uni.raw', (256, 256))\n",
    "rose_gau = read_raw_image('./Project1_Files/Images/rose_gau.raw', (256, 256))\n",
    "rose_original = read_raw_image('./Project1_Files/Images/rose.raw', (256, 256))\n",
    "\n",
    "# Apply median filter for uniform noise\n",
    "rose_uni_filtered = median_filter(rose_uni)\n",
    "\n",
    "# Apply gaussian filter for gaussian noise\n",
    "rose_gau_filtered = gaussian_filter(rose_gau)\n",
    "\n",
    "# Display the images\n",
    "plt.figure(figsize=(12, 8))\n",
    "plt.subplot(231), plt.imshow(rose_uni, cmap='gray'), plt.title('Uniform Noise')\n",
    "plt.subplot(232), plt.imshow(rose_uni_filtered, cmap='gray'), plt.title('Uniform Noise Removed')\n",
    "plt.subplot(233), plt.imshow(rose_original, cmap='gray'), plt.title('Original Image')\n",
    "plt.subplot(234), plt.imshow(rose_gau, cmap='gray'), plt.title('Gaussian Noise')\n",
    "plt.subplot(235), plt.imshow(rose_gau_filtered, cmap='gray'), plt.title('Gaussian Noise Removed')\n",
    "plt.subplot(236), plt.imshow(rose_original, cmap='gray'), plt.title('Original Image')\n",
    "plt.tight_layout()\n",
    "plt.show()\n"
   ]
  },
  {
   "cell_type": "code",
   "execution_count": 1,
   "metadata": {},
   "outputs": [
    {
     "ename": "FileNotFoundError",
     "evalue": "[Errno 2] No such file or directory: './Project1_Files/Images/rose_color_noise.raw'",
     "output_type": "error",
     "traceback": [
      "\u001b[0;31m---------------------------------------------------------------------------\u001b[0m",
      "\u001b[0;31mFileNotFoundError\u001b[0m                         Traceback (most recent call last)",
      "\u001b[1;32m/Users/sardorakhmedjonov/Code/Image-Data-Science/HW1/sa524_Programming_Assignment1/Problem3 .ipynb Cell 2\u001b[0m in \u001b[0;36m<cell line: 40>\u001b[0;34m()\u001b[0m\n\u001b[1;32m     <a href='vscode-notebook-cell:/Users/sardorakhmedjonov/Code/Image-Data-Science/HW1/sa524_Programming_Assignment1/Problem3%20.ipynb#W1sZmlsZQ%3D%3D?line=37'>38</a>\u001b[0m noisy_image_path \u001b[39m=\u001b[39m \u001b[39m'\u001b[39m\u001b[39m./Project1_Files/Images/rose_color_noise.raw\u001b[39m\u001b[39m'\u001b[39m\n\u001b[1;32m     <a href='vscode-notebook-cell:/Users/sardorakhmedjonov/Code/Image-Data-Science/HW1/sa524_Programming_Assignment1/Problem3%20.ipynb#W1sZmlsZQ%3D%3D?line=38'>39</a>\u001b[0m noisy_image_shape \u001b[39m=\u001b[39m (\u001b[39m256\u001b[39m, \u001b[39m256\u001b[39m, \u001b[39m3\u001b[39m)  \u001b[39m# Assuming the image is a 256x256 RGB image\u001b[39;00m\n\u001b[0;32m---> <a href='vscode-notebook-cell:/Users/sardorakhmedjonov/Code/Image-Data-Science/HW1/sa524_Programming_Assignment1/Problem3%20.ipynb#W1sZmlsZQ%3D%3D?line=39'>40</a>\u001b[0m noisy_image \u001b[39m=\u001b[39m read_raw_image(noisy_image_path, noisy_image_shape)\n\u001b[1;32m     <a href='vscode-notebook-cell:/Users/sardorakhmedjonov/Code/Image-Data-Science/HW1/sa524_Programming_Assignment1/Problem3%20.ipynb#W1sZmlsZQ%3D%3D?line=41'>42</a>\u001b[0m \u001b[39m# Applying the convolution with the average kernel\u001b[39;00m\n\u001b[1;32m     <a href='vscode-notebook-cell:/Users/sardorakhmedjonov/Code/Image-Data-Science/HW1/sa524_Programming_Assignment1/Problem3%20.ipynb#W1sZmlsZQ%3D%3D?line=42'>43</a>\u001b[0m denoised_image \u001b[39m=\u001b[39m convolve(noisy_image, average_kernel)\n",
      "\u001b[1;32m/Users/sardorakhmedjonov/Code/Image-Data-Science/HW1/sa524_Programming_Assignment1/Problem3 .ipynb Cell 2\u001b[0m in \u001b[0;36mread_raw_image\u001b[0;34m(file_path, shape)\u001b[0m\n\u001b[1;32m      <a href='vscode-notebook-cell:/Users/sardorakhmedjonov/Code/Image-Data-Science/HW1/sa524_Programming_Assignment1/Problem3%20.ipynb#W1sZmlsZQ%3D%3D?line=4'>5</a>\u001b[0m \u001b[39mdef\u001b[39;00m \u001b[39mread_raw_image\u001b[39m(file_path, shape):\n\u001b[1;32m      <a href='vscode-notebook-cell:/Users/sardorakhmedjonov/Code/Image-Data-Science/HW1/sa524_Programming_Assignment1/Problem3%20.ipynb#W1sZmlsZQ%3D%3D?line=5'>6</a>\u001b[0m     \u001b[39m# Reading the raw image file\u001b[39;00m\n\u001b[0;32m----> <a href='vscode-notebook-cell:/Users/sardorakhmedjonov/Code/Image-Data-Science/HW1/sa524_Programming_Assignment1/Problem3%20.ipynb#W1sZmlsZQ%3D%3D?line=6'>7</a>\u001b[0m     \u001b[39mwith\u001b[39;00m \u001b[39mopen\u001b[39;49m(file_path, \u001b[39m'\u001b[39;49m\u001b[39mrb\u001b[39;49m\u001b[39m'\u001b[39;49m) \u001b[39mas\u001b[39;00m file:\n\u001b[1;32m      <a href='vscode-notebook-cell:/Users/sardorakhmedjonov/Code/Image-Data-Science/HW1/sa524_Programming_Assignment1/Problem3%20.ipynb#W1sZmlsZQ%3D%3D?line=7'>8</a>\u001b[0m         img \u001b[39m=\u001b[39m np\u001b[39m.\u001b[39mfromfile(file, dtype\u001b[39m=\u001b[39mnp\u001b[39m.\u001b[39muint8)\n\u001b[1;32m      <a href='vscode-notebook-cell:/Users/sardorakhmedjonov/Code/Image-Data-Science/HW1/sa524_Programming_Assignment1/Problem3%20.ipynb#W1sZmlsZQ%3D%3D?line=8'>9</a>\u001b[0m     \u001b[39mreturn\u001b[39;00m img\u001b[39m.\u001b[39mreshape(shape)\n",
      "\u001b[0;31mFileNotFoundError\u001b[0m: [Errno 2] No such file or directory: './Project1_Files/Images/rose_color_noise.raw'"
     ]
    }
   ],
   "source": [
    "#Problem 3: Noise removal - (2) Color image\n",
    "import numpy as np\n",
    "import matplotlib.pyplot as plt\n",
    "\n",
    "def read_raw_image(file_path, shape):\n",
    "    # Reading the raw image file\n",
    "    with open(file_path, 'rb') as file:\n",
    "        img = np.fromfile(file, dtype=np.uint8)\n",
    "    return img.reshape(shape)\n",
    "\n",
    "def write_raw_image(img, file_path):\n",
    "    # Writing the image to a raw file\n",
    "    with open(file_path, 'wb') as file:\n",
    "        img.tofile(file)\n",
    "\n",
    "def convolve(image, kernel):\n",
    "    # Getting the dimensions\n",
    "    img_height, img_width, _ = image.shape\n",
    "    kernel_height, kernel_width = kernel.shape\n",
    "    \n",
    "    # Padding the image\n",
    "    pad_height, pad_width = kernel_height // 2, kernel_width // 2\n",
    "    padded_img = np.pad(image, ((pad_height, pad_height), (pad_width, pad_width), (0, 0)), 'constant')\n",
    "    \n",
    "    # Convolution\n",
    "    output_img = np.zeros((img_height, img_width, 3), dtype=np.uint8)\n",
    "    for i in range(img_height):\n",
    "        for j in range(img_width):\n",
    "            for k in range(3):  # For each color channel\n",
    "                region = padded_img[i:i+kernel_height, j:j+kernel_width, k]\n",
    "                output_img[i, j, k] = np.sum(region * kernel)\n",
    "    return output_img\n",
    "\n",
    "# Define the average kernel for blurring\n",
    "average_kernel = np.ones((3, 3)) / 9\n",
    "\n",
    "# Reading the noisy image\n",
    "noisy_image_path = './Project1_Files/Images/rose_color_noise.raw'\n",
    "noisy_image_shape = (256, 256, 3)  # Assuming the image is a 256x256 RGB image\n",
    "noisy_image = read_raw_image(noisy_image_path, noisy_image_shape)\n",
    "\n",
    "# Applying the convolution with the average kernel\n",
    "denoised_image = convolve(noisy_image, average_kernel)\n",
    "\n",
    "def plot_image(img, title):\n",
    "    plt.imshow(img)\n",
    "    plt.title(title)\n",
    "    plt.axis('off')\n",
    "    plt.show()\n",
    "\n",
    "# Plotting the denoised image\n",
    "plot_image(denoised_image, 'Denoised Image')\n"
   ]
  }
 ],
 "metadata": {
  "kernelspec": {
   "display_name": "Python 3",
   "language": "python",
   "name": "python3"
  },
  "language_info": {
   "codemirror_mode": {
    "name": "ipython",
    "version": 3
   },
   "file_extension": ".py",
   "mimetype": "text/x-python",
   "name": "python",
   "nbconvert_exporter": "python",
   "pygments_lexer": "ipython3",
   "version": "3.9.12"
  },
  "orig_nbformat": 4,
  "vscode": {
   "interpreter": {
    "hash": "40d3a090f54c6569ab1632332b64b2c03c39dcf918b08424e98f38b5ae0af88f"
   }
  }
 },
 "nbformat": 4,
 "nbformat_minor": 2
}
